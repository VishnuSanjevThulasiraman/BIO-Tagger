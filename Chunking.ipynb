{
 "cells": [
  {
   "cell_type": "markdown",
   "metadata": {},
   "source": [
    "# Shallow Parsing Chunker using Maximum Entropy Markov Model\n",
    "***CS 626*** *Natural Language Processing*"
   ]
  },
  {
   "cell_type": "markdown",
   "metadata": {},
   "source": [
    "**Maheer Maloth**,\n",
    "<br/>\n",
    "**Vineet Bhat**,\n",
    "<br/>\n",
    "**T Sanjev Vishnu**,\n",
    "<br/>\n",
    "*Indian Institute of Technology Bombay*"
   ]
  },
  {
   "cell_type": "markdown",
   "metadata": {},
   "source": [
    "# Preprocessing"
   ]
  },
  {
   "cell_type": "markdown",
   "metadata": {},
   "source": [
    "## Opening the files"
   ]
  },
  {
   "cell_type": "code",
   "execution_count": 1,
   "metadata": {},
   "outputs": [],
   "source": [
    "training_file = open('assignment2dataset/train.txt',mode=\"r\")\n",
    "test_file = open('assignment2dataset/test.txt',mode=\"r\")\n",
    "training_raw_data = training_file.readlines()\n",
    "test_raw_data = test_file.readlines()\n",
    "training_data = []\n",
    "test_data = []"
   ]
  },
  {
   "cell_type": "markdown",
   "metadata": {},
   "source": [
    "## Adding chunk tag (B/I/O) and creating a new training data "
   ]
  },
  {
   "cell_type": "code",
   "execution_count": 2,
   "metadata": {
    "scrolled": true
   },
   "outputs": [],
   "source": [
    "for new_line in training_raw_data:\n",
    "    new_line = new_line.split()\n",
    "    if len(new_line) is not 0 :\n",
    "        chunk_tag = new_line[2][0]\n",
    "        new_line.pop()\n",
    "        new_line.append(chunk_tag)\n",
    "        training_data.append(new_line)\n",
    "        #print(new_line)"
   ]
  },
  {
   "cell_type": "code",
   "execution_count": 3,
   "metadata": {
    "scrolled": true
   },
   "outputs": [
    {
     "name": "stdout",
     "output_type": "stream",
     "text": [
      "211727\n"
     ]
    }
   ],
   "source": [
    "#print(training_data)\n",
    "print(len(training_data))"
   ]
  },
  {
   "cell_type": "markdown",
   "metadata": {},
   "source": [
    "## Adding chunk tag (B/I/O) and creating a new training data "
   ]
  },
  {
   "cell_type": "code",
   "execution_count": 4,
   "metadata": {},
   "outputs": [],
   "source": [
    "for new_line in test_raw_data:\n",
    "    new_line = new_line.split()\n",
    "    if len(new_line) is not 0 :\n",
    "        chunk_tag = new_line[2][0]\n",
    "        new_line.pop()\n",
    "        new_line.append(chunk_tag)\n",
    "        test_data.append(new_line)\n",
    "        #print(new_line)"
   ]
  },
  {
   "cell_type": "code",
   "execution_count": 5,
   "metadata": {
    "scrolled": false
   },
   "outputs": [],
   "source": [
    "#print(test_data)"
   ]
  },
  {
   "cell_type": "markdown",
   "metadata": {},
   "source": [
    "## Counting number of B, I, O tags in the training data set"
   ]
  },
  {
   "cell_type": "code",
   "execution_count": 6,
   "metadata": {},
   "outputs": [
    {
     "name": "stdout",
     "output_type": "stream",
     "text": [
      "106978 76847 27902\n",
      "Total Number of Words:  211727\n"
     ]
    }
   ],
   "source": [
    "count_O = 0\n",
    "count_I = 0\n",
    "count_B = 0\n",
    "for line in training_data :\n",
    "    if line[2] == 'O':\n",
    "        count_O += 1\n",
    "    if line[2] == 'I':\n",
    "        count_I += 1\n",
    "    if line[2] == 'B':\n",
    "        count_B += 1\n",
    "print(count_B, count_I, count_O)\n",
    "print(\"Total Number of Words: \", count_B + count_I + count_O)"
   ]
  },
  {
   "cell_type": "markdown",
   "metadata": {},
   "source": [
    "## Forming a list of sentences which are lists in itself containing words"
   ]
  },
  {
   "cell_type": "code",
   "execution_count": 7,
   "metadata": {},
   "outputs": [],
   "source": [
    "def getSentences(train_data,test_data):\n",
    "    sentence_labels = []\n",
    "    sentence = []\n",
    "    train_sentences = []\n",
    "    train_labels = []\n",
    "    for x in train_data:\n",
    "        if(x[1]!='.'):\n",
    "            sentence.append(x)\n",
    "            sentence_labels.append(x[2])\n",
    "        else:\n",
    "            sentence.append(x)\n",
    "            sentence_labels.append(x[2])\n",
    "            train_sentences.append(sentence)\n",
    "            train_labels.append(sentence_labels)\n",
    "            sentence_labels = []\n",
    "            sentence = []\n",
    "    \n",
    "    sentence = []\n",
    "    sentence_labels = []\n",
    "    test_sentences = []\n",
    "    test_labels = []\n",
    "    for x in test_data:\n",
    "        if(x[1]!='.'):\n",
    "            sentence.append(x)\n",
    "            sentence_labels.append(x[2])\n",
    "        else:\n",
    "            sentence.append(x)\n",
    "            sentence_labels.append(x[2])\n",
    "            test_sentences.append(sentence)\n",
    "            test_labels.append(sentence_labels)\n",
    "            sentence_labels = []\n",
    "            sentence = []\n",
    "    print(\"Train Sentences: \"+str(len(train_sentences)))\n",
    "    print(\"Test Sentences: \"+str(len(test_sentences)))\n",
    "    \n",
    "    return train_sentences,train_labels,test_sentences,test_labels"
   ]
  },
  {
   "cell_type": "code",
   "execution_count": 8,
   "metadata": {
    "scrolled": true
   },
   "outputs": [
    {
     "name": "stdout",
     "output_type": "stream",
     "text": [
      "Train Sentences: 8827\n",
      "Test Sentences: 1975\n"
     ]
    }
   ],
   "source": [
    "train_sentences,train_labels,test_sentences,test_labels = getSentences(training_data,test_data)"
   ]
  },
  {
   "cell_type": "markdown",
   "metadata": {},
   "source": [
    "# Featuresets"
   ]
  },
  {
   "cell_type": "code",
   "execution_count": 9,
   "metadata": {},
   "outputs": [],
   "source": [
    "from nltk.stem import PorterStemmer"
   ]
  },
  {
   "cell_type": "code",
   "execution_count": 10,
   "metadata": {},
   "outputs": [],
   "source": [
    "ps = PorterStemmer()\n",
    "def word2features(sent, i):\n",
    "    word = sent[i][0]\n",
    "    postag = sent[i][1]\n",
    "    \n",
    "    features = {\n",
    "        'bias': 1.0,\n",
    "        'word.lower()': word.lower(),\n",
    "        'word_stem':ps.stem(word),\n",
    "        'word.isupper()': word.isupper(),\n",
    "        'word.istitle()': word.istitle(),\n",
    "        'word.isdigit()': word.isdigit(),\n",
    "        #'postag': postag,\n",
    "        'prefix1':word[0:1],\n",
    "        'prefix2':word[0:2],\n",
    "        'suffix1':word[-2:],\n",
    "        'suffix2':word[-3:],\n",
    "        'suffix3':word[-4:],\n",
    "        \n",
    "    }\n",
    "\n",
    "    \n",
    "    if i > 0:\n",
    "        word1 = sent[i-1][0]\n",
    "        postag1 = sent[i-1][1]\n",
    "        chunktag1 = sent[i-1][2]\n",
    "        features.update({\n",
    "            '-1:word.lower()': word1.lower(),\n",
    "            '-1:word_stem':ps.stem(word1),\n",
    "            '-1:word.istitle()': word1.istitle(),\n",
    "            '-1:word.isupper()': word1.isupper(),\n",
    "            #'-1:postag': postag1,\n",
    "            '-1:prefix1':word1[0:1],\n",
    "            '-1:prefix2':word1[0:2],\n",
    "            '-1:suffix1':word1[-2:],\n",
    "            '-1:suffix2':word1[-3:],\n",
    "            '-1:suffix3':word1[-4:],\n",
    "            #'-1:chunktag':chunktag1\n",
    "            \n",
    "        })   \n",
    "    else:\n",
    "        features['SOS'] = True\n",
    "\n",
    "    if i > 1:\n",
    "        word1 = sent[i-2][0]\n",
    "        postag1 = sent[i-2][1]\n",
    "        chunktag1 = sent[i-2][2]\n",
    "        features.update({\n",
    "            '-2:word.lower()': word1.lower(),\n",
    "            '-2:word_stem':ps.stem(word1),\n",
    "            '-2:word.istitle()': word1.istitle(),\n",
    "            '-2:word.isupper()': word1.isupper(),\n",
    "            #'-2:postag': postag1,\n",
    "            '-2:prefix1':word1[0:1],\n",
    "            '-2:prefix2':word1[0:2],\n",
    "            '-2:suffix1':word1[-2:],\n",
    "            '-2:suffix2':word1[-3:],\n",
    "            '-2:suffix3':word1[-4:],\n",
    "            #'-2:chunktag':chunktag1\n",
    "            \n",
    "        })   \n",
    "    else:\n",
    "        if(i==1):\n",
    "            features['SecondWord'] = True  \n",
    "            \n",
    "    if i > 2:\n",
    "        word1 = sent[i-3][0]\n",
    "        postag1 = sent[i-3][1]\n",
    "        chunktag1 = sent[i-3][2]\n",
    "        features.update({\n",
    "            '-3:word.lower()': word1.lower(),\n",
    "            '-3:word_stem':ps.stem(word1),\n",
    "            '-3:word.istitle()': word1.istitle(),\n",
    "            '-3:word.isupper()': word1.isupper(),\n",
    "            #'-3:postag': postag1,\n",
    "            '-3:prefix1':word1[0:1],\n",
    "            '-3:prefix2':word1[0:2],\n",
    "            '-3:suffix1':word1[-2:],\n",
    "            '-3:suffix2':word1[-3:],\n",
    "            '-3:suffix3':word1[-4:],\n",
    "            #'-3:chunktag':chunktag1\n",
    "            \n",
    "        })   \n",
    "    else:\n",
    "        if(i==2):\n",
    "            features['ThirdWord'] = True \n",
    "            \n",
    "    if i > 2:\n",
    "        word1 = sent[i-4][0]\n",
    "        postag1 = sent[i-4][1]\n",
    "        chunktag1 = sent[i-4][2]\n",
    "        features.update({\n",
    "            '-4:word.lower()': word1.lower(),\n",
    "            '-4:word_stem':ps.stem(word1),\n",
    "            '-4:word.istitle()': word1.istitle(),\n",
    "            '-4:word.isupper()': word1.isupper(),\n",
    "            #'-4:postag': postag1,\n",
    "            '-4:prefix1':word1[0:1],\n",
    "            '-4:prefix2':word1[0:2],\n",
    "            '-4:suffix1':word1[-2:],\n",
    "            '-4:suffix2':word1[-3:],\n",
    "            '-4:suffix3':word1[-4:],\n",
    "            #'-4:chunktag':chunktag1\n",
    "            \n",
    "        })   \n",
    "    else:\n",
    "        if(i==3):\n",
    "            features['FourthWord'] = True \n",
    "        \n",
    "    if i < len(sent)-1:\n",
    "        word1 = sent[i+1][0]\n",
    "        postag1 = sent[i+1][1]\n",
    "        chunktag1 = sent[i+1][2]\n",
    "        features.update({\n",
    "            '+1:word.lower()': word1.lower(),\n",
    "            '+1:word_stem':ps.stem(word1),\n",
    "            '+1:word.istitle()': word1.istitle(),\n",
    "            '+1:word.isupper()': word1.isupper(),\n",
    "            #'+1:postag': postag1,\n",
    "            '+1:prefix1':word1[0:1],\n",
    "            '+1:prefix2':word1[0:2],\n",
    "            '+1:suffix1':word1[-2:],\n",
    "            '+1:suffix2':word1[-3:],\n",
    "            '+1:suffix3':word1[-4:],\n",
    "            #'+1:chunktag':chunktag1\n",
    "        })\n",
    "    else:\n",
    "        features['EOS'] = True\n",
    "        \n",
    "\n",
    "    return features"
   ]
  },
  {
   "cell_type": "code",
   "execution_count": 11,
   "metadata": {},
   "outputs": [],
   "source": [
    "def sent2features(sent):\n",
    "    return [word2features(sent, i) for i in range(len(sent))]"
   ]
  },
  {
   "cell_type": "code",
   "execution_count": 12,
   "metadata": {},
   "outputs": [],
   "source": [
    "def sent2labels(sent):\n",
    "    return [label for token, postag, label in sent]"
   ]
  },
  {
   "cell_type": "code",
   "execution_count": 13,
   "metadata": {},
   "outputs": [],
   "source": [
    "def sent2tokens(sent):\n",
    "    return [token for token, postag, label in sent]"
   ]
  },
  {
   "cell_type": "code",
   "execution_count": 14,
   "metadata": {},
   "outputs": [],
   "source": [
    "X_test = [sent2features(s) for s in test_sentences]"
   ]
  },
  {
   "cell_type": "code",
   "execution_count": 15,
   "metadata": {},
   "outputs": [],
   "source": [
    "y_test = [sent2labels(s) for s in test_sentences]"
   ]
  },
  {
   "cell_type": "code",
   "execution_count": 16,
   "metadata": {},
   "outputs": [],
   "source": [
    "y_train = [sent2labels(s) for s in train_sentences]"
   ]
  },
  {
   "cell_type": "code",
   "execution_count": 17,
   "metadata": {},
   "outputs": [],
   "source": [
    "X_train = [sent2features(s) for s in train_sentences]"
   ]
  },
  {
   "cell_type": "code",
   "execution_count": 18,
   "metadata": {
    "scrolled": false
   },
   "outputs": [
    {
     "name": "stdout",
     "output_type": "stream",
     "text": [
      "bias                 1.0             \n",
      "word.lower()         unit            \n",
      "word_stem            unit            \n",
      "word.isupper()       0               \n",
      "word.istitle()       0               \n",
      "word.isdigit()       0               \n",
      "prefix1              u               \n",
      "prefix2              un              \n",
      "suffix1              it              \n",
      "suffix2              nit             \n",
      "suffix3              unit            \n",
      "-1:word.lower()      tulsa           \n",
      "-1:word_stem         tulsa           \n",
      "-1:word.istitle()    1               \n",
      "-1:word.isupper()    0               \n",
      "-1:prefix1           T               \n",
      "-1:prefix2           Tu              \n",
      "-1:suffix1           sa              \n",
      "-1:suffix2           lsa             \n",
      "-1:suffix3           ulsa            \n",
      "-2:word.lower()      's              \n",
      "-2:word_stem         's              \n",
      "-2:word.istitle()    0               \n",
      "-2:word.isupper()    0               \n",
      "-2:prefix1           '               \n",
      "-2:prefix2           's              \n",
      "-2:suffix1           's              \n",
      "-2:suffix2           's              \n",
      "-2:suffix3           's              \n",
      "-3:word.lower()      corp.           \n",
      "-3:word_stem         corp.           \n",
      "-3:word.istitle()    1               \n",
      "-3:word.isupper()    0               \n",
      "-3:prefix1           C               \n",
      "-3:prefix2           Co              \n",
      "-3:suffix1           p.              \n",
      "-3:suffix2           rp.             \n",
      "-3:suffix3           orp.            \n",
      "-4:word.lower()      international   \n",
      "-4:word_stem         intern          \n",
      "-4:word.istitle()    1               \n",
      "-4:word.isupper()    0               \n",
      "-4:prefix1           I               \n",
      "-4:prefix2           In              \n",
      "-4:suffix1           al              \n",
      "-4:suffix2           nal             \n",
      "-4:suffix3           onal            \n",
      "+1:word.lower()      said            \n",
      "+1:word_stem         said            \n",
      "+1:word.istitle()    0               \n",
      "+1:word.isupper()    0               \n",
      "+1:prefix1           s               \n",
      "+1:prefix2           sa              \n",
      "+1:suffix1           id              \n",
      "+1:suffix2           aid             \n",
      "+1:suffix3           said            \n"
     ]
    }
   ],
   "source": [
    "for feature, value in X_test[0][5].items():\n",
    "    print (\"{:<20} {:<15} \".format(feature, value))"
   ]
  },
  {
   "cell_type": "markdown",
   "metadata": {},
   "source": [
    "# Label Encoding\n",
    "Not necessary <br/>\n",
    "Heavily consumes memory <br />\n",
    "Time taken is unreasonably high <br />\n",
    "~ 25 hours"
   ]
  },
  {
   "cell_type": "markdown",
   "metadata": {},
   "source": [
    "### Using Label Encoder to convert the feature set into numbers"
   ]
  },
  {
   "cell_type": "code",
   "execution_count": 19,
   "metadata": {
    "scrolled": true
   },
   "outputs": [
    {
     "data": {
      "text/plain": [
       "'\\nfrom sklearn import preprocessing\\nle = preprocessing.LabelEncoder()\\nle.fit(values)\\n'"
      ]
     },
     "execution_count": 19,
     "metadata": {},
     "output_type": "execute_result"
    }
   ],
   "source": [
    "\"\"\"\n",
    "from sklearn import preprocessing\n",
    "le = preprocessing.LabelEncoder()\n",
    "le.fit(values)\n",
    "\"\"\""
   ]
  },
  {
   "cell_type": "markdown",
   "metadata": {},
   "source": [
    "### Checking if the transformer gives the same output for the same features "
   ]
  },
  {
   "cell_type": "code",
   "execution_count": 20,
   "metadata": {},
   "outputs": [
    {
     "data": {
      "text/plain": [
       "'\\nd = le.transform([\"I\",\"am\",\"a\",\"good\",\"boy\"])\\ne = le.transform([\"I\", \"am\", \"in\", \"love\"])\\nf = le.transform([\"I\",\"$\",\"to\",\"kiss\", \"you\",\"in\", \"capital\"])\\nc = le.classes_\\nprint(d)\\nprint(e)\\nprint(f)\\nprint(len(le.classes_))\\n'"
      ]
     },
     "execution_count": 20,
     "metadata": {},
     "output_type": "execute_result"
    }
   ],
   "source": [
    "\"\"\"\n",
    "d = le.transform([\"I\",\"am\",\"a\",\"good\",\"boy\"])\n",
    "e = le.transform([\"I\", \"am\", \"in\", \"love\"])\n",
    "f = le.transform([\"I\",\"$\",\"to\",\"kiss\", \"you\",\"in\", \"capital\"])\n",
    "c = le.classes_\n",
    "print(d)\n",
    "print(e)\n",
    "print(f)\n",
    "print(len(le.classes_))\n",
    "\"\"\""
   ]
  },
  {
   "cell_type": "markdown",
   "metadata": {},
   "source": [
    "# The MEMM Chunker "
   ]
  },
  {
   "cell_type": "markdown",
   "metadata": {},
   "source": [
    "## Creating Training Data"
   ]
  },
  {
   "cell_type": "code",
   "execution_count": 21,
   "metadata": {},
   "outputs": [
    {
     "data": {
      "text/plain": [
       "8827"
      ]
     },
     "execution_count": 21,
     "metadata": {},
     "output_type": "execute_result"
    }
   ],
   "source": [
    "len(X_train)"
   ]
  },
  {
   "cell_type": "code",
   "execution_count": 22,
   "metadata": {
    "scrolled": true
   },
   "outputs": [],
   "source": [
    "tr_data = []\n",
    "\n",
    "for sent in range(len(X_train)):\n",
    "    for word in range(len(X_train[sent])):\n",
    "        #print(sent, word)\n",
    "        new_tuple = (X_train[sent][word], y_train[sent][word])\n",
    "        tr_data.append(new_tuple)"
   ]
  },
  {
   "cell_type": "code",
   "execution_count": 23,
   "metadata": {
    "scrolled": true
   },
   "outputs": [
    {
     "name": "stdout",
     "output_type": "stream",
     "text": [
      "211727\n"
     ]
    }
   ],
   "source": [
    "print(len(tr_data))"
   ]
  },
  {
   "cell_type": "code",
   "execution_count": 24,
   "metadata": {},
   "outputs": [
    {
     "name": "stdout",
     "output_type": "stream",
     "text": [
      "({'bias': 1.0, 'word.lower()': 'a', 'word_stem': 'a', 'word.isupper()': False, 'word.istitle()': False, 'word.isdigit()': False, 'prefix1': 'a', 'prefix2': 'a', 'suffix1': 'a', 'suffix2': 'a', 'suffix3': 'a', '-1:word.lower()': 'show', '-1:word_stem': 'show', '-1:word.istitle()': False, '-1:word.isupper()': False, '-1:prefix1': 's', '-1:prefix2': 'sh', '-1:suffix1': 'ow', '-1:suffix2': 'how', '-1:suffix3': 'show', '-2:word.lower()': 'to', '-2:word_stem': 'to', '-2:word.istitle()': False, '-2:word.isupper()': False, '-2:prefix1': 't', '-2:prefix2': 'to', '-2:suffix1': 'to', '-2:suffix2': 'to', '-2:suffix3': 'to', '-3:word.lower()': 'fail', '-3:word_stem': 'fail', '-3:word.istitle()': False, '-3:word.isupper()': False, '-3:prefix1': 'f', '-3:prefix2': 'fa', '-3:suffix1': 'il', '-3:suffix2': 'ail', '-3:suffix3': 'fail', '-4:word.lower()': ',', '-4:word_stem': ',', '-4:word.istitle()': False, '-4:word.isupper()': False, '-4:prefix1': ',', '-4:prefix2': ',', '-4:suffix1': ',', '-4:suffix2': ',', '-4:suffix3': ',', '+1:word.lower()': 'substantial', '+1:word_stem': 'substanti', '+1:word.istitle()': False, '+1:word.isupper()': False, '+1:prefix1': 's', '+1:prefix2': 'su', '+1:suffix1': 'al', '+1:suffix2': 'ial', '+1:suffix3': 'tial'}, 'B')\n"
     ]
    }
   ],
   "source": [
    "print(tr_data[26])"
   ]
  },
  {
   "cell_type": "markdown",
   "metadata": {},
   "source": [
    "## Creating Test Data"
   ]
  },
  {
   "cell_type": "code",
   "execution_count": 25,
   "metadata": {
    "scrolled": false
   },
   "outputs": [],
   "source": [
    "ts_data = []\n",
    "\n",
    "for sent in range(len(X_test)):\n",
    "    for word in range(len(X_test[sent])):\n",
    "        #print(sent, word)\n",
    "        new_tuple = (X_test[sent][word])\n",
    "        ts_data.append(new_tuple)"
   ]
  },
  {
   "cell_type": "code",
   "execution_count": 26,
   "metadata": {},
   "outputs": [
    {
     "data": {
      "text/plain": [
       "dict_items"
      ]
     },
     "execution_count": 26,
     "metadata": {},
     "output_type": "execute_result"
    }
   ],
   "source": [
    "type(ts_data[0].items())"
   ]
  },
  {
   "cell_type": "code",
   "execution_count": 27,
   "metadata": {},
   "outputs": [],
   "source": [
    "ts_labels = []\n",
    "\n",
    "for sent in y_test:\n",
    "    for word in sent:\n",
    "        ts_labels.append(word)"
   ]
  },
  {
   "cell_type": "markdown",
   "metadata": {},
   "source": [
    "## Importing Maxent Classifier NLTK"
   ]
  },
  {
   "cell_type": "code",
   "execution_count": 28,
   "metadata": {
    "scrolled": true
   },
   "outputs": [
    {
     "name": "stdout",
     "output_type": "stream",
     "text": [
      "ClassifierI supports the following operations:\n",
      "  - self.classify(featureset)\n",
      "  - self.classify_many(featuresets)\n",
      "  - self.labels()\n",
      "  - self.prob_classify(featureset)\n",
      "  - self.prob_classify_many(featuresets)\n"
     ]
    }
   ],
   "source": [
    "import nltk\n",
    "nltk.usage(nltk.classify.ClassifierI)"
   ]
  },
  {
   "cell_type": "code",
   "execution_count": 29,
   "metadata": {},
   "outputs": [],
   "source": [
    "from nltk.classify import MaxentClassifier as mc"
   ]
  },
  {
   "cell_type": "markdown",
   "metadata": {},
   "source": [
    "## Training the dataset "
   ]
  },
  {
   "cell_type": "code",
   "execution_count": 30,
   "metadata": {},
   "outputs": [],
   "source": [
    "import timeit"
   ]
  },
  {
   "cell_type": "code",
   "execution_count": 31,
   "metadata": {
    "scrolled": true
   },
   "outputs": [
    {
     "name": "stdout",
     "output_type": "stream",
     "text": [
      "Time :  174.350399568\n"
     ]
    }
   ],
   "source": [
    "start = timeit.default_timer()\n",
    "a = mc.train(train_toks= tr_data ,trace=0, max_iter=1)\n",
    "stop = timeit.default_timer()\n",
    "\n",
    "print(\"Time : \", stop-start)"
   ]
  },
  {
   "cell_type": "code",
   "execution_count": 32,
   "metadata": {},
   "outputs": [
    {
     "name": "stdout",
     "output_type": "stream",
     "text": [
      "47377 47377\n"
     ]
    }
   ],
   "source": [
    "print(len(ts_labels), len(ts_data))"
   ]
  },
  {
   "cell_type": "markdown",
   "metadata": {},
   "source": [
    "## Predicting the labels "
   ]
  },
  {
   "cell_type": "code",
   "execution_count": 33,
   "metadata": {
    "scrolled": false
   },
   "outputs": [],
   "source": [
    "pred_labels = []\n",
    "for i in range(len(ts_data)):\n",
    "\n",
    "    probability_distribution = a.prob_classify(ts_data[i])\n",
    "    #print('%8.5f%8.5f%8.5f' % (probability_distribution.prob('B'), probability_distribution.prob('I'), probability_distribution.prob('O')), end=' ')\n",
    "    max = 0\n",
    "    if(probability_distribution.prob('B')>max):\n",
    "        max = probability_distribution.prob('B')\n",
    "        label = 'B'\n",
    "    if(probability_distribution.prob('I')>max):\n",
    "        max = probability_distribution.prob('I')\n",
    "        label = 'I'\n",
    "    if(probability_distribution.prob('O')>max):\n",
    "        max = probability_distribution.prob('O')\n",
    "        label = 'O'\n",
    "    pred_labels.append(label)\n",
    "    #print(label, ts_labels[i])"
   ]
  },
  {
   "cell_type": "code",
   "execution_count": 34,
   "metadata": {},
   "outputs": [
    {
     "data": {
      "text/plain": [
       "{'bias': 1.0,\n",
       " 'word.lower()': 'international',\n",
       " 'word_stem': 'intern',\n",
       " 'word.isupper()': False,\n",
       " 'word.istitle()': True,\n",
       " 'word.isdigit()': False,\n",
       " 'prefix1': 'I',\n",
       " 'prefix2': 'In',\n",
       " 'suffix1': 'al',\n",
       " 'suffix2': 'nal',\n",
       " 'suffix3': 'onal',\n",
       " '-1:word.lower()': 'rockwell',\n",
       " '-1:word_stem': 'rockwel',\n",
       " '-1:word.istitle()': True,\n",
       " '-1:word.isupper()': False,\n",
       " '-1:prefix1': 'R',\n",
       " '-1:prefix2': 'Ro',\n",
       " '-1:suffix1': 'll',\n",
       " '-1:suffix2': 'ell',\n",
       " '-1:suffix3': 'well',\n",
       " 'SecondWord': True,\n",
       " '+1:word.lower()': 'corp.',\n",
       " '+1:word_stem': 'corp.',\n",
       " '+1:word.istitle()': True,\n",
       " '+1:word.isupper()': False,\n",
       " '+1:prefix1': 'C',\n",
       " '+1:prefix2': 'Co',\n",
       " '+1:suffix1': 'p.',\n",
       " '+1:suffix2': 'rp.',\n",
       " '+1:suffix3': 'orp.'}"
      ]
     },
     "execution_count": 34,
     "metadata": {},
     "output_type": "execute_result"
    }
   ],
   "source": [
    "ts_data[1]"
   ]
  },
  {
   "cell_type": "markdown",
   "metadata": {},
   "source": [
    "## Metrics to measure effectiveness of the model "
   ]
  },
  {
   "cell_type": "code",
   "execution_count": 35,
   "metadata": {},
   "outputs": [],
   "source": [
    "import matplotlib.pyplot as plt"
   ]
  },
  {
   "cell_type": "code",
   "execution_count": 36,
   "metadata": {},
   "outputs": [],
   "source": [
    "from sklearn.metrics import confusion_matrix, accuracy_score"
   ]
  },
  {
   "cell_type": "code",
   "execution_count": 37,
   "metadata": {},
   "outputs": [],
   "source": [
    "confusion_matrixs = confusion_matrix(ts_labels, pred_labels)"
   ]
  },
  {
   "cell_type": "code",
   "execution_count": 38,
   "metadata": {},
   "outputs": [],
   "source": [
    "def plot_confusion_matrix(cm,\n",
    "                          target_names,\n",
    "                          title='Confusion matrix',\n",
    "                          cmap=None,\n",
    "                          normalize=True):\n",
    "    \"\"\"\n",
    "    given a sklearn confusion matrix (cm), make a nice plot\n",
    "\n",
    "    Arguments\n",
    "    ---------\n",
    "    cm:           confusion matrix from sklearn.metrics.confusion_matrix\n",
    "\n",
    "    target_names: given classification classes such as [0, 1, 2]\n",
    "                  the class names, for example: ['high', 'medium', 'low']\n",
    "\n",
    "    title:        the text to display at the top of the matrix\n",
    "\n",
    "    cmap:         the gradient of the values displayed from matplotlib.pyplot.cm\n",
    "                  see http://matplotlib.org/examples/color/colormaps_reference.html\n",
    "                  plt.get_cmap('jet') or plt.cm.Blues\n",
    "\n",
    "    normalize:    If False, plot the raw numbers\n",
    "                  If True, plot the proportions\n",
    "\n",
    "    Usage\n",
    "    -----\n",
    "    plot_confusion_matrix(cm           = cm,                  # confusion matrix created by\n",
    "                                                              # sklearn.metrics.confusion_matrix\n",
    "                          normalize    = True,                # show proportions\n",
    "                          target_names = y_labels_vals,       # list of names of the classes\n",
    "                          title        = best_estimator_name) # title of graph\n",
    "\n",
    "    Citiation\n",
    "    ---------\n",
    "    http://scikit-learn.org/stable/auto_examples/model_selection/plot_confusion_matrix.html\n",
    "\n",
    "    \"\"\"\n",
    "    import matplotlib.pyplot as plt\n",
    "    import numpy as np\n",
    "    import itertools\n",
    "\n",
    "    accuracy = np.trace(cm) / float(np.sum(cm))\n",
    "    misclass = 1 - accuracy\n",
    "\n",
    "    if cmap is None:\n",
    "        cmap = plt.get_cmap('Oranges')\n",
    "\n",
    "    plt.figure(figsize=(8, 6))\n",
    "\n",
    "    if target_names is not None:\n",
    "        tick_marks = np.arange(len(target_names))\n",
    "        plt.xticks(tick_marks, target_names, rotation=45)\n",
    "        plt.yticks(tick_marks, target_names)\n",
    "\n",
    "    if normalize:\n",
    "        cm = cm.astype('float') / cm.sum(axis=1)[:, np.newaxis]\n",
    "        \n",
    "    plt.imshow(cm, interpolation='nearest', cmap=cmap)\n",
    "    plt.title(title)\n",
    "    plt.colorbar()\n",
    "\n",
    "\n",
    "    thresh = cm.max() / 1.5 if normalize else cm.max() / 2\n",
    "    for i, j in itertools.product(range(cm.shape[0]), range(cm.shape[1])):\n",
    "        if normalize:\n",
    "            plt.text(j, i, \"{:0.4f}\".format(cm[i, j]),\n",
    "                     horizontalalignment=\"center\",\n",
    "                     color=\"white\" if cm[i, j] > thresh else \"black\")\n",
    "        else:\n",
    "            plt.text(j, i, \"{:,}\".format(cm[i, j]),\n",
    "                     horizontalalignment=\"center\",\n",
    "                     color=\"white\" if cm[i, j] > thresh else \"black\")\n",
    "\n",
    "\n",
    "    plt.tight_layout()\n",
    "    plt.ylabel('True label')\n",
    "    plt.xlabel('Predicted label')\n",
    "    plt.show()"
   ]
  },
  {
   "cell_type": "markdown",
   "metadata": {},
   "source": [
    "### Accuracy"
   ]
  },
  {
   "cell_type": "code",
   "execution_count": 39,
   "metadata": {},
   "outputs": [
    {
     "name": "stdout",
     "output_type": "stream",
     "text": [
      "Accuracy of B (correctly identified) :  99.16988093241656\n",
      "Accuracy of I (correctly identified) :  63.80513116171807\n",
      "Accuracy of O (correctly identified) :  7.84789644012945\n",
      "Overall Accuracy of the MEMM Chunker :  74.31031935327267\n"
     ]
    }
   ],
   "source": [
    "B_identified = confusion_matrixs[0][0]/sum(confusion_matrixs[0])\n",
    "I_identified = confusion_matrixs[1][1]/sum(confusion_matrixs[1])\n",
    "O_identified = confusion_matrixs[2][2]/sum(confusion_matrixs[2])\n",
    "print(\"Accuracy of B (correctly identified) : \", B_identified*100)\n",
    "print(\"Accuracy of I (correctly identified) : \", I_identified*100)\n",
    "print(\"Accuracy of O (correctly identified) : \", O_identified*100)\n",
    "print(\"Overall Accuracy of the MEMM Chunker : \",accuracy_score(ts_labels, pred_labels)*100)"
   ]
  },
  {
   "cell_type": "markdown",
   "metadata": {},
   "source": [
    "### Heat Map ( Confusion Matrix )"
   ]
  },
  {
   "cell_type": "code",
   "execution_count": 40,
   "metadata": {
    "scrolled": false
   },
   "outputs": [
    {
     "data": {
      "image/png": "[encoded data removed]",
      "text/plain": [
       "<Figure size 576x432 with 2 Axes>"
      ]
     },
     "metadata": {
      "needs_background": "light"
     },
     "output_type": "display_data"
    }
   ],
   "source": [
    "plot_confusion_matrix(confusion_matrixs, target_names=['B','I','O'], title='Normalised \\n Chunking using Maximum Entropy Markov Model ( 1 epoch ) \\n without POS tags, previous Chunktags', normalize=True)"
   ]
  },
  {
   "cell_type": "code",
   "execution_count": 41,
   "metadata": {},
   "outputs": [
    {
     "data": {
      "image/png": "[encoded data removed]",
      "text/plain": [
       "<Figure size 576x432 with 2 Axes>"
      ]
     },
     "metadata": {
      "needs_background": "light"
     },
     "output_type": "display_data"
    }
   ],
   "source": [
    "plot_confusion_matrix(confusion_matrixs, target_names=['B','I','O'], title='Chunking using Maximum Entropy Markov Model ( 1 epoch ) \\n without POS tags, previous Chunktags', normalize=False)"
   ]
  }
 ],
 "metadata": {
  "kernelspec": {
   "display_name": "Python 3",
   "language": "python",
   "name": "python3"
  },
  "language_info": {
   "codemirror_mode": {
    "name": "ipython",
    "version": 3
   },
   "file_extension": ".py",
   "mimetype": "text/x-python",
   "name": "python",
   "nbconvert_exporter": "python",
   "pygments_lexer": "ipython3",
   "version": "3.7.7"
  }
 },
 "nbformat": 4,
 "nbformat_minor": 4
}
